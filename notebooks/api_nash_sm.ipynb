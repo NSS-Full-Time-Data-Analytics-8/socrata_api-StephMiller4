{
 "cells": [
  {
   "cell_type": "code",
   "execution_count": null,
   "id": "44b4a947",
   "metadata": {},
   "outputs": [],
   "source": [
    "import requests\n",
    "import pandas as pd\n",
    "import matplotlib.pyplot as plt\n",
    "import seaborn as sns\n",
    "\n",
    "%matplotlib inline"
   ]
  },
  {
   "cell_type": "markdown",
   "id": "c712bd78",
   "metadata": {},
   "source": [
    "#### = is : for dictionaries"
   ]
  },
  {
   "cell_type": "code",
   "execution_count": null,
   "id": "174cbb94",
   "metadata": {},
   "outputs": [],
   "source": [
    "endpoint = 'https://data.nashville.gov/resource/fuaa-r5cm.json'\n",
    "##we could have added ?year=2016 to the end of the endpoint to filter but not best way"
   ]
  },
  {
   "cell_type": "code",
   "execution_count": null,
   "id": "f018febb",
   "metadata": {},
   "outputs": [],
   "source": [
    "params ={'year':'2016', 'query_text':'fire'}\n",
    "##This is how we filter, by making a dictionary of key value pairs"
   ]
  },
  {
   "cell_type": "markdown",
   "id": "f996d27c",
   "metadata": {},
   "source": [
    "### 1.) Make an API request that returns the months where \"fire\" was searched in 2016. Which month had the most searches? \n",
    "#### August with 47"
   ]
  },
  {
   "cell_type": "code",
   "execution_count": null,
   "id": "d3aa7080",
   "metadata": {},
   "outputs": [],
   "source": [
    "response = requests.get(endpoint, params=params)"
   ]
  },
  {
   "cell_type": "code",
   "execution_count": null,
   "id": "051a1e56",
   "metadata": {},
   "outputs": [],
   "source": [
    "response"
   ]
  },
  {
   "cell_type": "code",
   "execution_count": null,
   "id": "5051ac0a",
   "metadata": {},
   "outputs": [],
   "source": [
    "result = response.json()\n",
    "##These first 5 steps should always be the same (just different url)"
   ]
  },
  {
   "cell_type": "code",
   "execution_count": null,
   "id": "d9462904",
   "metadata": {},
   "outputs": [],
   "source": [
    "result\n",
    "##To view result of request"
   ]
  },
  {
   "cell_type": "code",
   "execution_count": null,
   "id": "6a8a7a1a",
   "metadata": {},
   "outputs": [],
   "source": [
    "result1 = response.json()"
   ]
  },
  {
   "cell_type": "code",
   "execution_count": null,
   "id": "fe493707",
   "metadata": {},
   "outputs": [],
   "source": [
    "result1_df=pd.DataFrame(result1)\n",
    "result1_df"
   ]
  },
  {
   "cell_type": "code",
   "execution_count": null,
   "id": "d5678d65",
   "metadata": {},
   "outputs": [],
   "source": [
    "result1_df.sort_values(by='query_count', ascending=False)\n",
    "##Sort number of fires, we had to do it this way d/t query count being a str not int"
   ]
  },
  {
   "cell_type": "markdown",
   "id": "84a48b87",
   "metadata": {},
   "source": [
    "### 2.) Make an API request that returns all the times a query was run more than 100 times in a month. How many times did this occur? \n",
    "#### 1262"
   ]
  },
  {
   "cell_type": "code",
   "execution_count": null,
   "id": "5aaa8c4b",
   "metadata": {},
   "outputs": [],
   "source": [
    "params ={'$where': 'query_count>100', '$limit' : '50000'}\n",
    "##We have to do this weird format because query is a str not an int or something\n",
    "##We changed the limit becasue the limit is 1000 automatically"
   ]
  },
  {
   "cell_type": "code",
   "execution_count": null,
   "id": "76f5ba69",
   "metadata": {},
   "outputs": [],
   "source": [
    "endpoint2 = 'https://data.nashville.gov/resource/fuaa-r5cm.json'\n",
    "##You could also change the endpoint by adding ?$limit=50000 to the end of the .json\n",
    "## but you would need to change this to endpoint 2 or something to not mess with future results"
   ]
  },
  {
   "cell_type": "code",
   "execution_count": null,
   "id": "fee22615",
   "metadata": {},
   "outputs": [],
   "source": [
    "response = requests.get(endpoint2, params=params)\n",
    "response"
   ]
  },
  {
   "cell_type": "code",
   "execution_count": null,
   "id": "a618c60b",
   "metadata": {},
   "outputs": [],
   "source": [
    "result2 = response.json()"
   ]
  },
  {
   "cell_type": "code",
   "execution_count": null,
   "id": "3182e866",
   "metadata": {},
   "outputs": [],
   "source": [
    "result2_df=pd.DataFrame(result2)\n",
    "result2_df"
   ]
  },
  {
   "cell_type": "code",
   "execution_count": null,
   "id": "8296a339",
   "metadata": {},
   "outputs": [],
   "source": [
    "len(result2_df)"
   ]
  },
  {
   "cell_type": "markdown",
   "id": "2010d6ef",
   "metadata": {},
   "source": [
    "### 3.) Make another API request that returns all the times \"codes\" was searched more than 100 times in a month. How many times did this occur?\n",
    "#### 56 Times"
   ]
  },
  {
   "cell_type": "code",
   "execution_count": null,
   "id": "de5828b5",
   "metadata": {},
   "outputs": [],
   "source": [
    "endpoint = 'https://data.nashville.gov/resource/fuaa-r5cm.json'\n"
   ]
  },
  {
   "cell_type": "code",
   "execution_count": null,
   "id": "a5a7f6cb",
   "metadata": {},
   "outputs": [],
   "source": [
    "params ={'query_text':'codes','$where': 'query_count>100'}"
   ]
  },
  {
   "cell_type": "code",
   "execution_count": null,
   "id": "5f679a68",
   "metadata": {},
   "outputs": [],
   "source": [
    "response = requests.get(endpoint, params=params)"
   ]
  },
  {
   "cell_type": "code",
   "execution_count": null,
   "id": "17a80faa",
   "metadata": {},
   "outputs": [],
   "source": [
    "response"
   ]
  },
  {
   "cell_type": "code",
   "execution_count": null,
   "id": "f04279d8",
   "metadata": {},
   "outputs": [],
   "source": [
    "result3 = response.json()"
   ]
  },
  {
   "cell_type": "code",
   "execution_count": null,
   "id": "bc14e08c",
   "metadata": {},
   "outputs": [],
   "source": [
    "result3_df=pd.DataFrame(result3)\n",
    "result3_df"
   ]
  },
  {
   "cell_type": "code",
   "execution_count": null,
   "id": "34218bf0",
   "metadata": {},
   "outputs": [],
   "source": [
    "result3_df.shape"
   ]
  },
  {
   "cell_type": "markdown",
   "id": "ff6ca1d1",
   "metadata": {},
   "source": [
    "### 4a.) Make an API request that returns the entire Top 500 Monthly Searches dataset. "
   ]
  },
  {
   "cell_type": "code",
   "execution_count": null,
   "id": "e9fd0109",
   "metadata": {},
   "outputs": [],
   "source": [
    "endpoint = 'https://data.nashville.gov/resource/fuaa-r5cm.json'"
   ]
  },
  {
   "cell_type": "code",
   "execution_count": null,
   "id": "df88da66",
   "metadata": {},
   "outputs": [],
   "source": [
    "params ={'$limit' : '50000'}"
   ]
  },
  {
   "cell_type": "code",
   "execution_count": null,
   "id": "41461d0a",
   "metadata": {},
   "outputs": [],
   "source": [
    "response = requests.get(endpoint, params=params)"
   ]
  },
  {
   "cell_type": "code",
   "execution_count": null,
   "id": "cd6ec575",
   "metadata": {},
   "outputs": [],
   "source": [
    "response"
   ]
  },
  {
   "cell_type": "code",
   "execution_count": null,
   "id": "5a7b39aa",
   "metadata": {},
   "outputs": [],
   "source": [
    "results_all = response.json()\n",
    "results_all_df=pd.DataFrame(results_all)\n",
    "results_all_df"
   ]
  },
  {
   "cell_type": "markdown",
   "id": "2746a84a",
   "metadata": {},
   "source": [
    "### 4b.) Make a chart that shows the number of times \"maps\" was searched in a month across the entire time frame."
   ]
  },
  {
   "cell_type": "code",
   "execution_count": null,
   "id": "d1c143bb",
   "metadata": {},
   "outputs": [],
   "source": [
    "maps_df=results_all_df[results_all_df['query_text'] == 'maps']"
   ]
  },
  {
   "cell_type": "code",
   "execution_count": null,
   "id": "65ec0b04",
   "metadata": {},
   "outputs": [],
   "source": [
    "maps_df"
   ]
  },
  {
   "cell_type": "code",
   "execution_count": null,
   "id": "d4898e6a",
   "metadata": {},
   "outputs": [],
   "source": [
    "plt.bar(maps_df.month_name, maps_df.query_count)\n",
    "plt.xlabel('Month')\n",
    "plt.ylabel('Count')\n",
    "plt.title('Ugly Chart About How Often People Search for \"Maps\"')\n",
    "##plt.savefig('Ugly Chart.png')\n",
    "plt.show\n",
    "##This chart lumps all the years together but keeps the months so March 2014 through 2021 are all \n",
    "##grouped together"
   ]
  },
  {
   "cell_type": "code",
   "execution_count": null,
   "id": "6f202b61",
   "metadata": {},
   "outputs": [],
   "source": []
  }
 ],
 "metadata": {
  "kernelspec": {
   "display_name": "Python 3 (ipykernel)",
   "language": "python",
   "name": "python3"
  },
  "language_info": {
   "codemirror_mode": {
    "name": "ipython",
    "version": 3
   },
   "file_extension": ".py",
   "mimetype": "text/x-python",
   "name": "python",
   "nbconvert_exporter": "python",
   "pygments_lexer": "ipython3",
   "version": "3.9.13"
  }
 },
 "nbformat": 4,
 "nbformat_minor": 5
}
